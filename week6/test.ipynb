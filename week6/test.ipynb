{
 "cells": [
  {
   "cell_type": "code",
   "execution_count": 9,
   "metadata": {},
   "outputs": [
    {
     "name": "stdout",
     "output_type": "stream",
     "text": [
      "filter matrix is \n",
      " [[ 2  4  6]\n",
      " [ 1  2  3]\n",
      " [ 5 10 15]]\n",
      "The Lx1 matrix is \n",
      " [[2.]\n",
      " [1.]\n",
      " [5.]]\n",
      "The 1xL matrix is [1 2 3]\n"
     ]
    }
   ],
   "source": [
    "import cv2\n",
    "import numpy as np\n",
    "import matplotlib.pyplot as plt\n",
    "\n",
    "fil = np.array([[2,4,6],\n",
    "            [1,2,3],\n",
    "            [5,10,15]])\n",
    "hor = np.zeros((3,1))\n",
    "for i in range (3):\n",
    "    hor[i] = [fil[i][0]]\n",
    "\n",
    "ven = fil[1]\n",
    "print(\"filter matrix is \\n %s\" %fil)\n",
    "print(\"The Lx1 matrix is \\n %s\" %hor)\n",
    "print(\"The 1xL matrix is %s\" %fil[1])"
   ]
  },
  {
   "cell_type": "code",
   "execution_count": 26,
   "metadata": {},
   "outputs": [
    {
     "data": {
      "text/plain": [
       "-1"
      ]
     },
     "execution_count": 26,
     "metadata": {},
     "output_type": "execute_result"
    }
   ],
   "source": [
    "img = cv2.imread('brain.jpeg', cv2.IMREAD_GRAYSCALE).astype(float) \n",
    "\n",
    "def filter_img_size(img_shape, kernel_size: int):\n",
    "    # Initializing the number of pixels in each axis\n",
    "    num_pix_y = 0\n",
    "    num_pix_x = 0\n",
    "\n",
    "    for i in range(img_shape[0]):\n",
    "        added = i + kernel_size\n",
    "        if added <= img_shape[0]:\n",
    "            num_pix_y += 1\n",
    "\n",
    "    for j in range(img_shape[1]):\n",
    "        added = j + kernel_size\n",
    "        if added <= img_shape[1]:\n",
    "            num_pix_x += 1\n",
    "\n",
    "    return (num_pix_y, num_pix_x)\n",
    "\n",
    "def convol(img: np.array, kernel: np.array):\n",
    "    sqr_size = filter_img_size(\n",
    "        img_shape=img.shape,\n",
    "        kernel_size=kernel.shape[0]\n",
    "    )\n",
    "    k = kernel.shape[0]\n",
    "    convol_img = np.zeros(img.shape)\n",
    "    for i in range(img.shape[0]):\n",
    "        for j in range(img.shape[1]):\n",
    "            mat = img[i:i+k, j]\n",
    "            convol_img[i, j] = np.sum(np.multiply(mat, kernel))\n",
    "\n",
    "    return convol_img\n",
    "\n",
    "def convol2(img: np.array, kernel: np.array):\n",
    "    sqr_size = filter_img_size(\n",
    "        img_shape=img.shape,\n",
    "        kernel_size=kernel.shape[0]\n",
    "    )\n",
    "    k = kernel.shape[0]\n",
    "    convol_img = np.zeros(img.shape)\n",
    "    for i in range(img.shape[0]):\n",
    "        for j in range(img.shape[1]):\n",
    "            mat = img[i, j]\n",
    "            convol_img[i, j] = np.sum(np.multiply(mat, kernel))\n",
    "\n",
    "    return convol_img\n",
    "\n",
    "hor_img = convol(img=img, kernel=hor)\n",
    "fil_img = convol2(img=hor_img, kernel=ven)\n",
    "cv2.imshow(\"result\",fil_img)\n",
    "cv2.waitKey(0)"
   ]
  }
 ],
 "metadata": {
  "kernelspec": {
   "display_name": "Python 3.9.7 ('base')",
   "language": "python",
   "name": "python3"
  },
  "language_info": {
   "codemirror_mode": {
    "name": "ipython",
    "version": 3
   },
   "file_extension": ".py",
   "mimetype": "text/x-python",
   "name": "python",
   "nbconvert_exporter": "python",
   "pygments_lexer": "ipython3",
   "version": "3.9.7"
  },
  "orig_nbformat": 4,
  "vscode": {
   "interpreter": {
    "hash": "2043299c89c8cd0b4d1a6f5cf4529bd58e6a4e0fe3181a25e0d328c821cdc5c5"
   }
  }
 },
 "nbformat": 4,
 "nbformat_minor": 2
}
